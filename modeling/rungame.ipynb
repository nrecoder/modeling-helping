{
 "cells": [
  {
   "cell_type": "markdown",
   "metadata": {},
   "source": [
    "simulate the two player farm game\n",
    "\n",
    "first, set up big config dictionary that specifies the game to be played\n",
    "\n",
    "jan 2023\n"
   ]
  },
  {
   "cell_type": "code",
   "execution_count": 1,
   "metadata": {},
   "outputs": [],
   "source": [
    "# imports\n",
    "from random import randint\n",
    "import numpy as np\n",
    "import random\n",
    "import datetime # for limiting calculation to wall clock time\n",
    "import math\n",
    "import copy\n",
    "import matplotlib.pyplot as plt\n",
    "import csv\n",
    "import sys\n",
    "\n",
    "import farmgame\n",
    "from mcts import MCTS\n",
    "from agents import RandomPolicy\n"
   ]
  },
  {
   "cell_type": "code",
   "execution_count": null,
   "metadata": {},
   "outputs": [],
   "source": [
    "#Set params\n",
    "layers = [\"Items00\", \"Items01\", \"Items02\", \"Items03\", \"Items04\", \"Items05\", \"Items06\", \"Items07\", \"Items08\", \"Items09\", \"Items10\", \"Items11\"]\n",
    "resourceConds = [\"even\", \"uneven\"]\n",
    "costCond=\"low\"\n",
    "visibilityCond=\"full\"\n",
    "redFirst=True"
   ]
  },
  {
   "cell_type": "code",
   "execution_count": 2,
   "metadata": {},
   "outputs": [
    {
     "name": "stdout",
     "output_type": "stream",
     "text": [
      "red's turn!\n",
      "['Tomato00', 'Turnip01', 'Turnip00', 'Strawberry01', 'Strawberry00', 'Eggplant00', 'Tomato01', 'Turnip02', 'redpillow']\n",
      "red player picks tomato\n",
      "purple's turn!\n",
      "['Turnip01', 'Turnip00', 'Strawberry01', 'Strawberry00', 'Eggplant00', 'Tomato01', 'Turnip02', 'purplepillow']\n",
      "purple player picks turnip\n",
      "red's turn!\n",
      "['Turnip01', 'Strawberry01', 'Strawberry00', 'Eggplant00', 'Tomato01', 'Turnip02', 'box', 'redpillow']\n",
      "red player picks turnip\n",
      "purple's turn!\n",
      "['Strawberry01', 'Strawberry00', 'Eggplant00', 'Tomato01', 'Turnip02', 'box', 'purplepillow']\n",
      "purple player picks strawberry\n",
      "red's turn!\n",
      "['Strawberry01', 'Eggplant00', 'Tomato01', 'Turnip02', 'box', 'redpillow']\n",
      "red player picks turnip\n",
      "purple's turn!\n",
      "['Strawberry01', 'Eggplant00', 'Tomato01', 'box', 'purplepillow']\n",
      "purple player picks eggplant\n",
      "red's turn!\n",
      "['Strawberry01', 'Tomato01', 'box', 'redpillow']\n",
      "red player picks box\n",
      "purple's turn!\n",
      "['Strawberry01', 'Tomato01', 'box', 'purplepillow']\n",
      "purple player picks box\n",
      "red's turn!\n",
      "['Strawberry01', 'Tomato01', 'redpillow']\n",
      "red player picks pillow\n",
      "purple's turn!\n",
      "['Strawberry01', 'Tomato01', 'purplepillow']\n",
      "purple player picks strawberry\n",
      "red's turn!\n",
      "['Tomato01', 'redpillow']\n",
      "red player picks pillow\n",
      "purple's turn!\n",
      "['Tomato01', 'box', 'purplepillow']\n",
      "purple player picks pillow\n",
      "red's turn!\n",
      "['Tomato01', 'redpillow']\n",
      "red player picks tomato\n",
      "purple's turn!\n",
      "['box', 'purplepillow']\n",
      "purple player picks box\n",
      "red's turn!\n",
      "['box', 'redpillow']\n",
      "red player picks box\n",
      "Red Reward:  (112, True)\n",
      "Purp Reward:  (80, True)\n"
     ]
    }
   ],
   "source": [
    "storelstates = []\n",
    "storelactions = []\n",
    "storelrewards_red = []\n",
    "storelrewards_purp = []\n",
    "for resourceCond in resourceConds:\n",
    "    for layer in layers:\n",
    "        print(f\"{resourceCond} game with layer {layer}\")\n",
    "        TheFarm = farmgame.configure_game(layer=layer,resourceCond=resourceCond,costCond=costCond,visibilityCond=visibilityCond,redFirst=redFirst)\n",
    "        state = TheFarm\n",
    "\n",
    "        done = False\n",
    "\n",
    "        # red\n",
    "        red_agent = MCTS(time=2., C=1, max_moves = 20, color=\"red\")\n",
    "        # red_agent = RandomPolicy(game)\n",
    "        # purple\n",
    "        purp_agent = MCTS(time=2., C=1, max_moves = 20, color=\"purple\")\n",
    "        # purp_agent = RandomPolicy(game)\n",
    "\n",
    "        action_seq = []\n",
    "        # print(\"current farm items: \" + str(list(v.name for v in state.items if v.status==\"farm\")))\n",
    "        # print(\"current box: \" + str(list(v.name for v in state.farmbox.contents)))\n",
    "\n",
    "        while not done:\n",
    "            red_agent.update(state) \n",
    "            purp_agent.update(state)\n",
    "\n",
    "            currentplayer = state.players[state.turn]\n",
    "            #print(currentplayer['name'] + \"'s turn!\")\n",
    "            #print(\"current backpack: \" + str(list(v.name for v in currentplayer['backpack']['contents'])))\n",
    "            #print(\"current farm items: \" + str(list(v.name for v in state.items)))\n",
    "            #print(\"current box: \" + str(list(v.name for v in state.farmbox.contents)))\n",
    "\n",
    "            if currentplayer['name'] == \"red\":\n",
    "                action = red_agent.choose_action()\n",
    "            else:\n",
    "                action = purp_agent.choose_action()\n",
    "\n",
    "            # actions = state.legal_actions(currentplayer)\n",
    "            # print(list(a.name for a in actions))\n",
    "            # action = actions[0]\n",
    "            if action is None:\n",
    "                print(\"THIS SHOULdn't happen\")\n",
    "                print(currentplayer['name'] + \" has no more moves.\")\n",
    "            else:\n",
    "                #print(currentplayer['name'] + \" player picks \" + action.name)\n",
    "\n",
    "            state = state.take_action(action,inplace=True) #pick first veg in list\n",
    "            rwd, done = state.reward(currentplayer['name'])\n",
    "\n",
    "        ##ADD CODE TO STORE RESULTS\n",
    "\n",
    "        print(\"Red Reward: \",state.reward('red')[0])\n",
    "        print(\"Purp Reward: \",state.reward('purple')[0])\n",
    "        storelstates.append([red_agent.states])\n",
    "        storelactions.append([action_seq])\n",
    "        storelrewards_red.append(game.reward(red_agent.states,'red'))\n",
    "        storelrewards_purp.append(game.reward(purp_agent.states,'purple'))\n"
   ]
  },
  {
   "cell_type": "code",
   "execution_count": null,
   "metadata": {},
   "outputs": [],
   "source": [
    "print(storelrewards_red)\n",
    "print(storelrewards_purp)"
   ]
  }
 ],
 "metadata": {
  "kernelspec": {
   "display_name": "Python 3 (ipykernel)",
   "language": "python",
   "name": "python3"
  },
  "language_info": {
   "codemirror_mode": {
    "name": "ipython",
    "version": 3
   },
   "file_extension": ".py",
   "mimetype": "text/x-python",
   "name": "python",
   "nbconvert_exporter": "python",
   "pygments_lexer": "ipython3",
   "version": "3.11.5"
  },
  "vscode": {
   "interpreter": {
    "hash": "baf2bf159e7aee4be20dfb0978184648745e2c3fd1ea51978f5e222ff674cedf"
   }
  }
 },
 "nbformat": 4,
 "nbformat_minor": 4
}
